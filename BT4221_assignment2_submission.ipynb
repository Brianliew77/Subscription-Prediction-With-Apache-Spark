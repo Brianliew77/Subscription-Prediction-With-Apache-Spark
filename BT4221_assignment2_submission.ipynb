{
 "cells": [
  {
   "cell_type": "markdown",
   "metadata": {
    "application/vnd.databricks.v1+cell": {
     "cellMetadata": {
      "byteLimit": 2048000,
      "rowLimit": 10000
     },
     "inputWidgets": {},
     "nuid": "f99b2e28-6938-4842-85df-ef0608ddf0b6",
     "showTitle": false,
     "tableResultSettingsMap": {},
     "title": ""
    }
   },
   "source": [
    "LIEW WEI BRIAN - A0239041M"
   ]
  },
  {
   "cell_type": "markdown",
   "metadata": {
    "application/vnd.databricks.v1+cell": {
     "cellMetadata": {
      "byteLimit": 2048000,
      "rowLimit": 10000
     },
     "inputWidgets": {},
     "nuid": "852bd4a3-43a5-4d0d-a6b9-d311acf6573b",
     "showTitle": false,
     "tableResultSettingsMap": {},
     "title": ""
    }
   },
   "source": [
    "# Task 1: Data Loading and Exploration (25 marks)"
   ]
  },
  {
   "cell_type": "markdown",
   "metadata": {
    "application/vnd.databricks.v1+cell": {
     "cellMetadata": {
      "byteLimit": 2048000,
      "rowLimit": 10000
     },
     "inputWidgets": {},
     "nuid": "44be12c5-0a8d-4559-9443-8d21f2d2b0e0",
     "showTitle": false,
     "tableResultSettingsMap": {},
     "title": ""
    }
   },
   "source": [
    "## Data Loading (10 marks)"
   ]
  },
  {
   "cell_type": "code",
   "execution_count": 0,
   "metadata": {
    "application/vnd.databricks.v1+cell": {
     "cellMetadata": {
      "byteLimit": 2048000,
      "rowLimit": 10000
     },
     "inputWidgets": {},
     "nuid": "ffe3b451-50f5-4f7e-87a7-7539721aa8a9",
     "showTitle": false,
     "tableResultSettingsMap": {},
     "title": ""
    }
   },
   "outputs": [],
   "source": [
    "from pyspark.sql import SparkSession\n",
    "\n",
    "# Initialize Spark Session\n",
    "spark = SparkSession.builder.appName(\"BankMarketing\").getOrCreate()\n",
    "\n",
    "# Load CSV file into a DataFrame\n",
    "df = spark.read.csv(\"/FileStore/tables/bank-full.csv\", header=True, inferSchema=True, sep=\";\")\n"
   ]
  },
  {
   "cell_type": "markdown",
   "metadata": {
    "application/vnd.databricks.v1+cell": {
     "cellMetadata": {
      "byteLimit": 2048000,
      "rowLimit": 10000
     },
     "inputWidgets": {},
     "nuid": "0eb3c168-0dd6-4126-b05f-110852e7f8ae",
     "showTitle": false,
     "tableResultSettingsMap": {},
     "title": ""
    }
   },
   "source": [
    "## Exploration Using DataFrame API and Spark SQL (15 marks) "
   ]
  },
  {
   "cell_type": "code",
   "execution_count": 0,
   "metadata": {
    "application/vnd.databricks.v1+cell": {
     "cellMetadata": {
      "byteLimit": 2048000,
      "rowLimit": 10000
     },
     "inputWidgets": {},
     "nuid": "7589e336-010b-4dfe-a395-ad79e811ea43",
     "showTitle": false,
     "tableResultSettingsMap": {},
     "title": ""
    }
   },
   "outputs": [
    {
     "output_type": "stream",
     "name": "stdout",
     "output_type": "stream",
     "text": [
      "root\n |-- age: integer (nullable = true)\n |-- job: string (nullable = true)\n |-- marital: string (nullable = true)\n |-- education: string (nullable = true)\n |-- default: string (nullable = true)\n |-- balance: integer (nullable = true)\n |-- housing: string (nullable = true)\n |-- loan: string (nullable = true)\n |-- contact: string (nullable = true)\n |-- day: integer (nullable = true)\n |-- month: string (nullable = true)\n |-- duration: integer (nullable = true)\n |-- campaign: integer (nullable = true)\n |-- pdays: integer (nullable = true)\n |-- previous: integer (nullable = true)\n |-- poutcome: string (nullable = true)\n |-- y: string (nullable = true)\n\n+---+------------+-------+---------+-------+-------+-------+----+-------+---+-----+--------+--------+-----+--------+--------+---+\n|age|job         |marital|education|default|balance|housing|loan|contact|day|month|duration|campaign|pdays|previous|poutcome|y  |\n+---+------------+-------+---------+-------+-------+-------+----+-------+---+-----+--------+--------+-----+--------+--------+---+\n|58 |management  |married|tertiary |no     |2143   |yes    |no  |unknown|5  |may  |261     |1       |-1   |0       |unknown |no |\n|44 |technician  |single |secondary|no     |29     |yes    |no  |unknown|5  |may  |151     |1       |-1   |0       |unknown |no |\n|33 |entrepreneur|married|secondary|no     |2      |yes    |yes |unknown|5  |may  |76      |1       |-1   |0       |unknown |no |\n|47 |blue-collar |married|unknown  |no     |1506   |yes    |no  |unknown|5  |may  |92      |1       |-1   |0       |unknown |no |\n|33 |unknown     |single |unknown  |no     |1      |no     |no  |unknown|5  |may  |198     |1       |-1   |0       |unknown |no |\n+---+------------+-------+---------+-------+-------+-------+----+-------+---+-----+--------+--------+-----+--------+--------+---+\nonly showing top 5 rows\n\n"
     ]
    }
   ],
   "source": [
    "# Show Schema\n",
    "df.printSchema()\n",
    "\n",
    "# Show first 5 rows\n",
    "df.show(5, truncate=False)"
   ]
  },
  {
   "cell_type": "markdown",
   "metadata": {
    "application/vnd.databricks.v1+cell": {
     "cellMetadata": {
      "byteLimit": 2048000,
      "rowLimit": 10000
     },
     "inputWidgets": {},
     "nuid": "2a9a5483-5d76-4b79-a48a-08f8265eaeae",
     "showTitle": false,
     "tableResultSettingsMap": {},
     "title": ""
    }
   },
   "source": [
    "Displaying the schema and showing a sample of the data allows us to understand the structure of the dataset. This includes the column names, number of columns in the dataset, the data type of each column, whether the column allows for null values (nullable = true) or does not (nullable = false).\n",
    "\n",
    "Knowing the number of columns allows us to ensure that we do not miss out on features during feature engineering and model training. Understanding the datatype as well as displaying the columns allows us to better understand if the feature is a numerical, categorical or ordinal data - which will be handled differently in the feature engineering and model training process later on. Knowing whether the column is nullable or not allows us to see if there can potentially be missing values in the dataset, and printing the schema further allows us to see how the potential missing values were handled - in this case missing values were marked as \"unknown\"."
   ]
  },
  {
   "cell_type": "code",
   "execution_count": 0,
   "metadata": {
    "application/vnd.databricks.v1+cell": {
     "cellMetadata": {
      "byteLimit": 2048000,
      "rowLimit": 10000
     },
     "inputWidgets": {},
     "nuid": "55ea4665-9739-45fc-a44f-458868f14e22",
     "showTitle": false,
     "tableResultSettingsMap": {},
     "title": ""
    }
   },
   "outputs": [
    {
     "output_type": "stream",
     "name": "stdout",
     "output_type": "stream",
     "text": [
      "+---+-----+\n|  y|count|\n+---+-----+\n| no|39922|\n|yes| 5289|\n+---+-----+\n\n"
     ]
    }
   ],
   "source": [
    "# Register DataFrame as a temporary SQL table\n",
    "df.createOrReplaceTempView(\"bank_data\")\n",
    "\n",
    "# Use Spark SQL to count occurrences of each value in 'y'\n",
    "y_counts = spark.sql(\"\"\"\n",
    "    SELECT y, COUNT(*) AS count\n",
    "    FROM bank_data\n",
    "    GROUP BY y\n",
    "\"\"\")\n",
    "\n",
    "# Show the results\n",
    "y_counts.show()\n"
   ]
  },
  {
   "cell_type": "markdown",
   "metadata": {
    "application/vnd.databricks.v1+cell": {
     "cellMetadata": {
      "byteLimit": 2048000,
      "rowLimit": 10000
     },
     "inputWidgets": {},
     "nuid": "981d30b3-c461-41e4-86bc-e9cb10c11080",
     "showTitle": false,
     "tableResultSettingsMap": {},
     "title": ""
    }
   },
   "source": [
    "To further understand our target variable better, we use Spark SQL to count occurrences of each value in \"y\". In this case, we can see that \"y\" has a datatype string, is labelled either \"yes\" or \"no\", and has a distribution of 5298 counts of \"yes\" and 39922 counts of \"no\"."
   ]
  },
  {
   "cell_type": "code",
   "execution_count": 0,
   "metadata": {
    "application/vnd.databricks.v1+cell": {
     "cellMetadata": {
      "byteLimit": 2048000,
      "rowLimit": 10000
     },
     "inputWidgets": {},
     "nuid": "f7a69807-c2c1-4243-8eb8-ba97803e6bb2",
     "showTitle": false,
     "tableResultSettingsMap": {},
     "title": ""
    }
   },
   "outputs": [
    {
     "output_type": "stream",
     "name": "stdout",
     "output_type": "stream",
     "text": [
      "+-------------+-----------------+-------+-------+\n|total_records|          avg_age|min_age|max_age|\n+-------------+-----------------+-------+-------+\n|        45211|40.93621021432837|     18|     95|\n+-------------+-----------------+-------+-------+\n\n+-------------+------------------+-----------+-----------+\n|total_records|       avg_balance|min_balance|max_balance|\n+-------------+------------------+-----------+-----------+\n|        45211|1362.2720576850766|      -8019|     102127|\n+-------------+------------------+-----------+-----------+\n\n+-------------+-----------------+------------+------------+\n|total_records|     avg_duration|min_duration|max_duration|\n+-------------+-----------------+------------+------------+\n|        45211|258.1630797814691|           0|        4918|\n+-------------+-----------------+------------+------------+\n\n+-------------+-----------------+------------+------------+\n|total_records|     avg_campaign|min_campaign|max_campaign|\n+-------------+-----------------+------------+------------+\n|        45211|2.763840658246887|           1|          63|\n+-------------+-----------------+------------+------------+\n\n"
     ]
    }
   ],
   "source": [
    "# Spark SQL Query 1: Summary Statistics for Age\n",
    "age_summary = spark.sql(\"\"\"\n",
    "    SELECT COUNT(age) as total_records, \n",
    "           AVG(age) as avg_age, \n",
    "           MIN(age) as min_age, \n",
    "           MAX(age) as max_age\n",
    "    FROM bank_data\n",
    "\"\"\")\n",
    "age_summary.show()\n",
    "\n",
    "# Spark SQL Query 2: Summary Statistics for Balance\n",
    "balance_summary = spark.sql(\"\"\"\n",
    "    SELECT COUNT(balance) as total_records, \n",
    "           AVG(balance) as avg_balance, \n",
    "           MIN(balance) as min_balance, \n",
    "           MAX(balance) as max_balance\n",
    "    FROM bank_data\n",
    "\"\"\")\n",
    "balance_summary.show()\n",
    "\n",
    "# Spark SQL Query 3: Summary Statistics for Duration\n",
    "duration_summary = spark.sql(\"\"\"\n",
    "    SELECT COUNT(duration) as total_records, \n",
    "           AVG(duration) as avg_duration, \n",
    "           MIN(duration) as min_duration, \n",
    "           MAX(duration) as max_duration\n",
    "    FROM bank_data\n",
    "\"\"\")\n",
    "duration_summary.show()\n",
    "\n",
    "# Spark SQL Query 4: Summary Statistics for Campaign\n",
    "campaign_summary = spark.sql(\"\"\"\n",
    "    SELECT COUNT(campaign) as total_records, \n",
    "           AVG(campaign) as avg_campaign, \n",
    "           MIN(campaign) as min_campaign, \n",
    "           MAX(campaign) as max_campaign\n",
    "    FROM bank_data\n",
    "\"\"\")\n",
    "campaign_summary.show()\n",
    "\n",
    "\n"
   ]
  },
  {
   "cell_type": "markdown",
   "metadata": {
    "application/vnd.databricks.v1+cell": {
     "cellMetadata": {
      "byteLimit": 2048000,
      "rowLimit": 10000
     },
     "inputWidgets": {},
     "nuid": "c8e6841b-ed3f-4602-aeff-d2dc30952619",
     "showTitle": false,
     "tableResultSettingsMap": {},
     "title": ""
    }
   },
   "source": [
    "Next, we use Spark SQL Queries to understand the demographic features (age, balance) and campaign attribute features (duration, campaign) of the dataset. We will calculate the summary statistics (count, average, min, max) of each.\n",
    "\n",
    "Theres a total of 45211 rows of data, which is reflected in the column \"total_records\" of each summary statistic table, helping me understand the dataset scale.\n",
    "\n",
    "First we look at the age demographic feature. The minimum age of the bank customer is 18, indicating that the dataset does not include minors. The maximum age is 95, indicating the presence of older bank clients, which may influence deposit subscription behaviour. The average age is also approximately 40.9 years, indicating that the dataset comprises a diverse range of customer ages. Understanding the age distrubtion also gives us an idea where we might group ages into different categories such as \"Young\", \"Middle-aged\" and \"Senior\", which might allow us to better utilise the age feature to predict deposit subcription as opposed to a numerical age value.\n",
    "\n",
    "Secondly, we look at the balance demographic feature, which indicates the average yearly balance of customers. The minimum average yearly balance of -8019 indicates that customers may have negative yearly balance and some customers may have significant overdrafts. The maximum average yearly balance is 102127, suggesting that there are individuals with high net worth in the bank customer dataset. The average balance of 1362.7 indicates that most customers maintain a positive bank balance. This might prompt us to investigate whether customers with negative balances are less inclined to take up subscriptions or wehether higher balance correlates with higher subscription rates.\n",
    "\n",
    "Thirdly, we look at the duration feature, which indicates the last contact duration between the bank and the customer in seconds. The minimum call duration of 0 seconds indicates that some calls were unsuccessful. The maximum call duration of 4918 seconds (approximately 82 minutes) suggests that the longest duration of call could be quite long but could potentially be an outlier data as the average call duration is 258 seconds (approximately 4.3 minutes). This prompts us to analyse the relationship between last call duruation and subscription to see if the duration of the call could potentially indicate a higher chance of subcription.\n",
    "\n",
    "Lastly, we look at the campaign feature, which indicates the number of contacts performed during this campaign between the bank and the customer. The minimum number of contact is 1, while some customers were contacted up to 63 times. Extremely high contact numbers may indicate aggressive marketing strategies. On average, customers were contacted approximately 2.76 times, and this prompts us to seek if repeated calls actually increase subscription rates and if there is an optimal number of calls before customer dissatisfaction kicks in and rate of subscription falls.\n",
    "\n"
   ]
  },
  {
   "cell_type": "markdown",
   "metadata": {
    "application/vnd.databricks.v1+cell": {
     "cellMetadata": {
      "byteLimit": 2048000,
      "rowLimit": 10000
     },
     "inputWidgets": {},
     "nuid": "f2c1c8f4-37c2-4e88-9a59-1e07a0e116f7",
     "showTitle": false,
     "tableResultSettingsMap": {},
     "title": ""
    }
   },
   "source": [
    "# Task 2: Feature Engineering with Window Functions (25 marks) "
   ]
  },
  {
   "cell_type": "markdown",
   "metadata": {
    "application/vnd.databricks.v1+cell": {
     "cellMetadata": {
      "byteLimit": 2048000,
      "rowLimit": 10000
     },
     "inputWidgets": {},
     "nuid": "8846d721-ee61-4cf1-9ef1-d40aeccfe062",
     "showTitle": false,
     "tableResultSettingsMap": {},
     "title": ""
    }
   },
   "source": [
    "## Target Variable Transformation (5 marks)"
   ]
  },
  {
   "cell_type": "code",
   "execution_count": 0,
   "metadata": {
    "application/vnd.databricks.v1+cell": {
     "cellMetadata": {
      "byteLimit": 2048000,
      "rowLimit": 10000
     },
     "inputWidgets": {},
     "nuid": "bfefd221-2b38-47c6-af8c-94c5a6d71bbd",
     "showTitle": false,
     "tableResultSettingsMap": {},
     "title": ""
    }
   },
   "outputs": [
    {
     "output_type": "stream",
     "name": "stdout",
     "output_type": "stream",
     "text": [
      "+------------+-----+\n|subscription|count|\n+------------+-----+\n|           1| 5289|\n|           0|39922|\n+------------+-----+\n\n+---+------------+-------+---------+-------+-------+-------+----+-------+---+-----+--------+--------+-----+--------+--------+------------+\n|age|         job|marital|education|default|balance|housing|loan|contact|day|month|duration|campaign|pdays|previous|poutcome|subscription|\n+---+------------+-------+---------+-------+-------+-------+----+-------+---+-----+--------+--------+-----+--------+--------+------------+\n| 58|  management|married| tertiary|     no|   2143|    yes|  no|unknown|  5|  may|     261|       1|   -1|       0| unknown|           0|\n| 44|  technician| single|secondary|     no|     29|    yes|  no|unknown|  5|  may|     151|       1|   -1|       0| unknown|           0|\n| 33|entrepreneur|married|secondary|     no|      2|    yes| yes|unknown|  5|  may|      76|       1|   -1|       0| unknown|           0|\n| 47| blue-collar|married|  unknown|     no|   1506|    yes|  no|unknown|  5|  may|      92|       1|   -1|       0| unknown|           0|\n| 33|     unknown| single|  unknown|     no|      1|     no|  no|unknown|  5|  may|     198|       1|   -1|       0| unknown|           0|\n+---+------------+-------+---------+-------+-------+-------+----+-------+---+-----+--------+--------+-----+--------+--------+------------+\nonly showing top 5 rows\n\n"
     ]
    }
   ],
   "source": [
    "from pyspark.sql.functions import when, col\n",
    "\n",
    "df = df.withColumn(\"subscription\", when(col(\"y\") == \"yes\", 1).otherwise(0)).drop(\"y\")\n",
    "\n",
    "subscription_counts = df.groupBy(\"subscription\").count()\n",
    "subscription_counts.show()\n",
    "df.show(5)"
   ]
  },
  {
   "cell_type": "markdown",
   "metadata": {
    "application/vnd.databricks.v1+cell": {
     "cellMetadata": {
      "byteLimit": 2048000,
      "rowLimit": 10000
     },
     "inputWidgets": {},
     "nuid": "c417db67-231a-4b79-bfe7-5bb5d6dd1249",
     "showTitle": false,
     "tableResultSettingsMap": {},
     "title": ""
    }
   },
   "source": [
    "## Window Functions (10 marks) "
   ]
  },
  {
   "cell_type": "code",
   "execution_count": 0,
   "metadata": {
    "application/vnd.databricks.v1+cell": {
     "cellMetadata": {
      "byteLimit": 2048000,
      "rowLimit": 10000
     },
     "inputWidgets": {},
     "nuid": "a71a6a31-0c43-4b96-9ba4-faae6189b988",
     "showTitle": false,
     "tableResultSettingsMap": {},
     "title": ""
    }
   },
   "outputs": [
    {
     "output_type": "stream",
     "name": "stdout",
     "output_type": "stream",
     "text": [
      "+-------------+-----+------------------+\n|          job|count|      avg_duration|\n+-------------+-----+------------------+\n|   unemployed| 1303| 288.5433614735223|\n|      retired| 2264|287.36130742049704|\n|self-employed| 1579|268.15706143128034|\n|  blue-collar| 9732| 262.9015618578101|\n|     services| 4154| 259.3187289359899|\n| entrepreneur| 1487| 256.3093476798958|\n|   management| 9458|253.99577077612787|\n|   technician| 7597| 252.9049624851905|\n|       admin.| 5171|246.89673177337224|\n|      student|  938| 246.6567164179063|\n|    housemaid| 1240|245.82500000000573|\n|      unknown|  288|237.61111111110995|\n+-------------+-----+------------------+\n\n+---+-----------+-------+---------+-------+-------+-------+----+-------+---+-----+--------+--------+-----+--------+--------+------------+-------------------------+\n|age|        job|marital|education|default|balance|housing|loan|contact|day|month|duration|campaign|pdays|previous|poutcome|subscription|avg_call_duration_per_job|\n+---+-----------+-------+---------+-------+-------+-------+----+-------+---+-----+--------+--------+-----+--------+--------+------------+-------------------------+\n| 47|blue-collar|married|  unknown|     no|   1506|    yes|  no|unknown|  5|  may|      92|       1|   -1|       0| unknown|           0|       262.90156185778875|\n| 57|blue-collar|married|  primary|     no|     52|    yes|  no|unknown|  5|  may|      38|       1|   -1|       0| unknown|           0|       262.90156185778875|\n| 28|blue-collar|married|secondary|     no|    723|    yes| yes|unknown|  5|  may|     262|       1|   -1|       0| unknown|           0|       262.90156185778875|\n| 32|blue-collar| single|  primary|     no|     23|    yes| yes|unknown|  5|  may|     160|       1|   -1|       0| unknown|           0|       262.90156185778875|\n| 59|blue-collar|married|secondary|     no|      0|    yes|  no|unknown|  5|  may|     226|       1|   -1|       0| unknown|           0|       262.90156185778875|\n+---+-----------+-------+---------+-------+-------+-------+----+-------+---+-----+--------+--------+-----+--------+--------+------------+-------------------------+\nonly showing top 5 rows\n\n"
     ]
    }
   ],
   "source": [
    "from pyspark.sql.functions import avg\n",
    "from pyspark.sql.window import Window\n",
    "\n",
    "# Define window specification: Compute average call duration per job category\n",
    "window_spec = Window.partitionBy(\"job\")\n",
    "\n",
    "# Compute the average call duration within each job category\n",
    "df = df.withColumn(\n",
    "    \"avg_call_duration_per_job\",\n",
    "    avg(\"duration\").over(window_spec)\n",
    ")\n",
    "\n",
    "# Register updated DataFrame as a temporary table\n",
    "df.createOrReplaceTempView(\"bank_data_enriched\")\n",
    "\n",
    "# Verify transformation\n",
    "spark.sql(\"\"\"\n",
    "    SELECT job, COUNT(*) as count, AVG(avg_call_duration_per_job) AS avg_duration\n",
    "    FROM bank_data_enriched\n",
    "    GROUP BY job\n",
    "    ORDER BY avg_duration DESC\n",
    "\"\"\").show()\n",
    "\n",
    "# Show first 5 rows\n",
    "df.show(5)\n"
   ]
  },
  {
   "cell_type": "markdown",
   "metadata": {
    "application/vnd.databricks.v1+cell": {
     "cellMetadata": {
      "byteLimit": 2048000,
      "rowLimit": 10000
     },
     "inputWidgets": {},
     "nuid": "bbccf364-9862-425c-be5e-02be4f4707b4",
     "showTitle": false,
     "tableResultSettingsMap": {},
     "title": ""
    }
   },
   "source": [
    "We have used the window function to create one new feature \"avg_call_duration_per_job\" to capture customer engagement within job categories.\n",
    "\n",
    "Logic:\n",
    "1. We first define a window partition by job. This ensures that computation in performed within each respective job category so that every customer within the same job category will get the same job-specific average.\n",
    "2. We then compute the average call duration using the \"duration\" column for each job category. AVG(duration).over(window_spec) calculates the average call length for customers in the same job.\n",
    "3. We then add the computed value as a new column \"avg_call_duration_per_job\".\n",
    "\n",
    "Intended Benefit:\n",
    "\n",
    "The primary goal of the dataset is that we want to predict if a customer will subscribe to a term based deposit. avg_call_duration_per_job helps us to identify which job cateogies engage more during calls and a higher avg_call_duration_per_job suggests that customers in a particular job category tend to stay longer on calls, potentially indicating a heightened interest level. This helps to prioritise job segments which are more likely to opt for the deposit subscription. This can be used to adjust marketing strategies to focus more on job categories where longer calls lead to higher subscription rates.\n",
    "\n",
    "\n"
   ]
  },
  {
   "cell_type": "markdown",
   "metadata": {
    "application/vnd.databricks.v1+cell": {
     "cellMetadata": {
      "byteLimit": 2048000,
      "rowLimit": 10000
     },
     "inputWidgets": {},
     "nuid": "398c13f6-1fe8-4667-a9fa-ccd14ee7d4e8",
     "showTitle": false,
     "tableResultSettingsMap": {},
     "title": ""
    }
   },
   "source": [
    "## Additional Features (7 marks) "
   ]
  },
  {
   "cell_type": "markdown",
   "metadata": {
    "application/vnd.databricks.v1+cell": {
     "cellMetadata": {
      "byteLimit": 2048000,
      "rowLimit": 10000
     },
     "inputWidgets": {},
     "nuid": "c3b3429e-e80b-4c05-9d9e-f4cd2417b4b7",
     "showTitle": false,
     "tableResultSettingsMap": {},
     "title": ""
    }
   },
   "source": [
    " Feature 1: Age Group Categorisation (Customer Demographics)\n"
   ]
  },
  {
   "cell_type": "code",
   "execution_count": 0,
   "metadata": {
    "application/vnd.databricks.v1+cell": {
     "cellMetadata": {
      "byteLimit": 2048000,
      "rowLimit": 10000
     },
     "inputWidgets": {},
     "nuid": "914eb760-58d4-4707-a268-94737e781390",
     "showTitle": false,
     "tableResultSettingsMap": {},
     "title": ""
    }
   },
   "outputs": [
    {
     "output_type": "stream",
     "name": "stdout",
     "output_type": "stream",
     "text": [
      "+---+-----------+-------+---------+-------+-------+-------+----+-------+---+-----+--------+--------+-----+--------+--------+------------+-------------------------+-----------+\n|age|        job|marital|education|default|balance|housing|loan|contact|day|month|duration|campaign|pdays|previous|poutcome|subscription|avg_call_duration_per_job|  age_group|\n+---+-----------+-------+---------+-------+-------+-------+----+-------+---+-----+--------+--------+-----+--------+--------+------------+-------------------------+-----------+\n| 47|blue-collar|married|  unknown|     no|   1506|    yes|  no|unknown|  5|  may|      92|       1|   -1|       0| unknown|           0|       262.90156185778875|Middle-aged|\n| 57|blue-collar|married|  primary|     no|     52|    yes|  no|unknown|  5|  may|      38|       1|   -1|       0| unknown|           0|       262.90156185778875|Middle-aged|\n| 28|blue-collar|married|secondary|     no|    723|    yes| yes|unknown|  5|  may|     262|       1|   -1|       0| unknown|           0|       262.90156185778875|      Young|\n| 32|blue-collar| single|  primary|     no|     23|    yes| yes|unknown|  5|  may|     160|       1|   -1|       0| unknown|           0|       262.90156185778875|Middle-aged|\n| 59|blue-collar|married|secondary|     no|      0|    yes|  no|unknown|  5|  may|     226|       1|   -1|       0| unknown|           0|       262.90156185778875|Middle-aged|\n+---+-----------+-------+---------+-------+-------+-------+----+-------+---+-----+--------+--------+-----+--------+--------+------------+-------------------------+-----------+\nonly showing top 5 rows\n\n"
     ]
    }
   ],
   "source": [
    "from pyspark.sql.functions import when\n",
    "\n",
    "df = df.withColumn(\"age_group\",\n",
    "    when(col(\"age\") < 30, \"Young\")\n",
    "    .when((col(\"age\") >= 30) & (col(\"age\") < 60), \"Middle-aged\")\n",
    "    .otherwise(\"Senior\")\n",
    ")\n",
    "\n",
    "df.show(5)"
   ]
  },
  {
   "cell_type": "markdown",
   "metadata": {
    "application/vnd.databricks.v1+cell": {
     "cellMetadata": {
      "byteLimit": 2048000,
      "rowLimit": 10000
     },
     "inputWidgets": {},
     "nuid": "f3a39249-75da-4f0c-9de2-27a0b28b02d4",
     "showTitle": false,
     "tableResultSettingsMap": {},
     "title": ""
    }
   },
   "source": [
    "A new \"age_group\" feature was created because in marketing campaigns, age is a key demographic feature that influences behaviour and decision making. Different age groups tend to exhibit different engagement levels and deposit take up rates. Instead of treating age as a continuous variable, we categorise them into 3 age groups: Young (<30), Middle-aged (30-59), Senior(>=60).\n",
    "\n",
    "Individuals in the Young category are likely to be early in their careers and have lower savings, and could be less likely to invest in deposits. Individuals in the Middle-aged category are likely to be more financially stable hence more inclined to consider deposits with the bank. Individuals in the Senior category are likely retired or will retire soon, hence will be more concerned with secure investment options, hence termed deposits may appeal to them.\n",
    "\n",
    "Categorising age makes the model more interpretable instead of using raw age."
   ]
  },
  {
   "cell_type": "markdown",
   "metadata": {
    "application/vnd.databricks.v1+cell": {
     "cellMetadata": {
      "byteLimit": 2048000,
      "rowLimit": 10000
     },
     "inputWidgets": {},
     "nuid": "0506d8bd-2466-4757-8fc7-c63330182491",
     "showTitle": false,
     "tableResultSettingsMap": {},
     "title": ""
    }
   },
   "source": [
    " Feature 2: Engagement Rate (Campaign Data)"
   ]
  },
  {
   "cell_type": "code",
   "execution_count": 0,
   "metadata": {
    "application/vnd.databricks.v1+cell": {
     "cellMetadata": {
      "byteLimit": 2048000,
      "rowLimit": 10000
     },
     "inputWidgets": {},
     "nuid": "8843d9f2-b537-4b48-bad3-4eb0d3d7c4e7",
     "showTitle": false,
     "tableResultSettingsMap": {},
     "title": ""
    }
   },
   "outputs": [
    {
     "output_type": "stream",
     "name": "stdout",
     "output_type": "stream",
     "text": [
      "+---+-----------+-------+---------+-------+-------+-------+----+-------+---+-----+--------+--------+-----+--------+--------+------------+-------------------------+-----------+--------------------+\n|age|        job|marital|education|default|balance|housing|loan|contact|day|month|duration|campaign|pdays|previous|poutcome|subscription|avg_call_duration_per_job|  age_group|     engagement_rate|\n+---+-----------+-------+---------+-------+-------+-------+----+-------+---+-----+--------+--------+-----+--------+--------+------------+-------------------------+-----------+--------------------+\n| 47|blue-collar|married|  unknown|     no|   1506|    yes|  no|unknown|  5|  may|      92|       1|   -1|       0| unknown|           0|       262.90156185778875|Middle-aged|0.010752688172043012|\n| 57|blue-collar|married|  primary|     no|     52|    yes|  no|unknown|  5|  may|      38|       1|   -1|       0| unknown|           0|       262.90156185778875|Middle-aged| 0.02564102564102564|\n| 28|blue-collar|married|secondary|     no|    723|    yes| yes|unknown|  5|  may|     262|       1|   -1|       0| unknown|           0|       262.90156185778875|      Young|0.003802281368821...|\n| 32|blue-collar| single|  primary|     no|     23|    yes| yes|unknown|  5|  may|     160|       1|   -1|       0| unknown|           0|       262.90156185778875|Middle-aged|0.006211180124223602|\n| 59|blue-collar|married|secondary|     no|      0|    yes|  no|unknown|  5|  may|     226|       1|   -1|       0| unknown|           0|       262.90156185778875|Middle-aged|0.004405286343612335|\n+---+-----------+-------+---------+-------+-------+-------+----+-------+---+-----+--------+--------+-----+--------+--------+------------+-------------------------+-----------+--------------------+\nonly showing top 5 rows\n\n"
     ]
    }
   ],
   "source": [
    "df = df.withColumn(\"engagement_rate\", col(\"campaign\") / (col(\"duration\") + 1))\n",
    "\n",
    "df.show(5)"
   ]
  },
  {
   "cell_type": "markdown",
   "metadata": {
    "application/vnd.databricks.v1+cell": {
     "cellMetadata": {
      "byteLimit": 2048000,
      "rowLimit": 10000
     },
     "inputWidgets": {},
     "nuid": "c83f86e0-19aa-4178-a218-be82a833828a",
     "showTitle": false,
     "tableResultSettingsMap": {},
     "title": ""
    }
   },
   "source": [
    "A new \"engagement_rate\" feature was created to quantify how engaged a customer is during the campaign by calculating the (last contact duration / number of contacts performed during this campaign + 1), where + 1 prevents zero division error.\n",
    "\n",
    "High engagement_rate indicates that the customer has been contacted multiple times but spends very little time on calls. This may suggest a lack of interest or call fatigue, requiring a different outreach strategy. Low engagement_rate suggests that the customer had fewer calls but engaged in longer conversations, which may indicate higher interest and a greater likelihood of conversion. \n",
    "\n",
    "By incorporating engagement_rate, the campaign can be better optimized by identifying highly engaged customers and adjusting call frequency and messaging strategies accordingly.\n",
    "\n",
    "\n"
   ]
  },
  {
   "cell_type": "markdown",
   "metadata": {
    "application/vnd.databricks.v1+cell": {
     "cellMetadata": {
      "byteLimit": 2048000,
      "rowLimit": 10000
     },
     "inputWidgets": {},
     "nuid": "1a90c162-669a-4b7e-b221-7f3b9d2110e3",
     "showTitle": false,
     "tableResultSettingsMap": {},
     "title": ""
    }
   },
   "source": [
    "## Documentation (3 marks) "
   ]
  },
  {
   "cell_type": "markdown",
   "metadata": {
    "application/vnd.databricks.v1+cell": {
     "cellMetadata": {
      "byteLimit": 2048000,
      "rowLimit": 10000
     },
     "inputWidgets": {},
     "nuid": "6b0c39d4-9a78-41de-8d6f-ba60db94474e",
     "showTitle": false,
     "tableResultSettingsMap": {},
     "title": ""
    }
   },
   "source": [
    "In summary, we added 3 new features \"avg_call_duration_per_job\", \"age_group\", \"engagement_rate\". \n",
    "\n",
    "\"avg_call_duration_per_job\" captures job-based engagement trends by computing the average call duration for each job category. This helps identify which job groups are more engaged, allowing the model to prioritise job segments with higher subscription likelihood. Since longer call durations often indicate higher interest, this feature enables the model to prioritise job segments with a greater likelihood of subscription.\n",
    "\n",
    "\"age_group\" categorises customers into Young (<30), Middle-aged (30-59), and Senior (≥60). Different age groups exhibit distinct financial behaviors, making this feature more interpretable and enabling age-specific marketing strategies. Since different age groups have varying financial priorities, the model can better capture the relationship between age and deposit subscription likelihood. By improving interpretability, this feature also helps in identifying which age group is most responsive to marketing efforts.\n",
    "\n",
    "\"engagement_rate\" measures customer responsiveness by dividing campaign calls by call duration. A high engagement rate suggests call fatigue or low interest, while a low engagement rate indicates stronger interest, helping optimise outreach strategies. This feature quantifies customer responsiveness to marketing calls, helping the model distinguish between actively interested customers and those experiencing call fatigue.\n",
    "\n",
    "These features improve prediction accuracy by capturing customer engagement patterns, financial stability, and responsiveness, enabling more targeted marketing and better subscription predictions."
   ]
  },
  {
   "cell_type": "code",
   "execution_count": 0,
   "metadata": {
    "application/vnd.databricks.v1+cell": {
     "cellMetadata": {
      "byteLimit": 2048000,
      "rowLimit": 10000
     },
     "inputWidgets": {},
     "nuid": "24e04ad2-707f-4f9e-a3da-70e99b2b5da4",
     "showTitle": false,
     "tableResultSettingsMap": {},
     "title": ""
    }
   },
   "outputs": [],
   "source": [
    "df = df.drop(\"job\", \"duration\", \"campaign\", \"age\")\n"
   ]
  },
  {
   "cell_type": "markdown",
   "metadata": {
    "application/vnd.databricks.v1+cell": {
     "cellMetadata": {
      "byteLimit": 2048000,
      "rowLimit": 10000
     },
     "inputWidgets": {},
     "nuid": "47640169-00fb-4c2d-b04b-44d5fdcd833e",
     "showTitle": false,
     "tableResultSettingsMap": {},
     "title": ""
    }
   },
   "source": [
    "\"duration\" column is dropped because the new feature avg_call_duration_per_job captures job-specific engagement trends, and engagement_rate uses duration for normalisation.\n",
    "\n",
    "\"campaign\" column is dropped because the engagement_rate feature already incorporates campaign by dividing it by duration + 1, so keeping both may introduce multicollinearity.\n",
    "\n",
    "\"age\" column is dropped because the age_group feature segments customers into categories, making the raw age column unnecessary.\n",
    "\n",
    "\"job\" is dropped because avg_call_duration_per_job effectively captures job-specific behavior and every value of avg_call_duration_per_job is entirely dependent on job hence keeping \"job\" may introduce multicollinearity."
   ]
  },
  {
   "cell_type": "markdown",
   "metadata": {
    "application/vnd.databricks.v1+cell": {
     "cellMetadata": {
      "byteLimit": 2048000,
      "rowLimit": 10000
     },
     "inputWidgets": {},
     "nuid": "744cc236-327e-4881-9e15-a3691b6ca0e5",
     "showTitle": false,
     "tableResultSettingsMap": {},
     "title": ""
    }
   },
   "source": [
    "# Task 3: Pipeline Construction and Model Training (25 marks) "
   ]
  },
  {
   "cell_type": "markdown",
   "metadata": {
    "application/vnd.databricks.v1+cell": {
     "cellMetadata": {
      "byteLimit": 2048000,
      "rowLimit": 10000
     },
     "inputWidgets": {},
     "nuid": "fba60005-ad9f-49de-b33e-801b11715cbd",
     "showTitle": false,
     "tableResultSettingsMap": {},
     "title": ""
    }
   },
   "source": [
    "## Pipeline Construction (12 marks) "
   ]
  },
  {
   "cell_type": "code",
   "execution_count": 0,
   "metadata": {
    "application/vnd.databricks.v1+cell": {
     "cellMetadata": {
      "byteLimit": 2048000,
      "rowLimit": 10000
     },
     "inputWidgets": {},
     "nuid": "6cac2b2c-3ef7-4ff1-98ba-0501e5d8bcc6",
     "showTitle": false,
     "tableResultSettingsMap": {},
     "title": ""
    }
   },
   "outputs": [
    {
     "output_type": "stream",
     "name": "stdout",
     "output_type": "stream",
     "text": [
      "root\n |-- marital: string (nullable = true)\n |-- education: string (nullable = true)\n |-- default: string (nullable = true)\n |-- balance: integer (nullable = true)\n |-- housing: string (nullable = true)\n |-- loan: string (nullable = true)\n |-- contact: string (nullable = true)\n |-- day: integer (nullable = true)\n |-- month: string (nullable = true)\n |-- pdays: integer (nullable = true)\n |-- previous: integer (nullable = true)\n |-- poutcome: string (nullable = true)\n |-- subscription: integer (nullable = false)\n |-- avg_call_duration_per_job: double (nullable = true)\n |-- age_group: string (nullable = false)\n |-- engagement_rate: double (nullable = true)\n\n+-------+---------+-------+-------+-------+----+-------+---+-----+-----+--------+--------+------------+-------------------------+-----------+--------------------+\n|marital|education|default|balance|housing|loan|contact|day|month|pdays|previous|poutcome|subscription|avg_call_duration_per_job|  age_group|     engagement_rate|\n+-------+---------+-------+-------+-------+----+-------+---+-----+-----+--------+--------+------------+-------------------------+-----------+--------------------+\n|married|  unknown|     no|   1506|    yes|  no|unknown|  5|  may|   -1|       0| unknown|           0|       262.90156185778875|Middle-aged|0.010752688172043012|\n|married|  primary|     no|     52|    yes|  no|unknown|  5|  may|   -1|       0| unknown|           0|       262.90156185778875|Middle-aged| 0.02564102564102564|\n|married|secondary|     no|    723|    yes| yes|unknown|  5|  may|   -1|       0| unknown|           0|       262.90156185778875|      Young|0.003802281368821...|\n| single|  primary|     no|     23|    yes| yes|unknown|  5|  may|   -1|       0| unknown|           0|       262.90156185778875|Middle-aged|0.006211180124223602|\n|married|secondary|     no|      0|    yes|  no|unknown|  5|  may|   -1|       0| unknown|           0|       262.90156185778875|Middle-aged|0.004405286343612335|\n+-------+---------+-------+-------+-------+----+-------+---+-----+-----+--------+--------+------------+-------------------------+-----------+--------------------+\nonly showing top 5 rows\n\n"
     ]
    }
   ],
   "source": [
    "# Show Schema\n",
    "df.printSchema()\n",
    "\n",
    "# Show first 5 rows\n",
    "df.show(5)"
   ]
  },
  {
   "cell_type": "markdown",
   "metadata": {
    "application/vnd.databricks.v1+cell": {
     "cellMetadata": {
      "byteLimit": 2048000,
      "rowLimit": 10000
     },
     "inputWidgets": {},
     "nuid": "3dbbc10d-f41c-496d-945c-4a4ab4e3f2f5",
     "showTitle": false,
     "tableResultSettingsMap": {},
     "title": ""
    }
   },
   "source": [
    "### 3.1 Define Categorical & Numerical Features"
   ]
  },
  {
   "cell_type": "code",
   "execution_count": 0,
   "metadata": {
    "application/vnd.databricks.v1+cell": {
     "cellMetadata": {
      "byteLimit": 2048000,
      "rowLimit": 10000
     },
     "inputWidgets": {},
     "nuid": "0645b493-ff3b-4def-95f2-d2e3f53e0c59",
     "showTitle": false,
     "tableResultSettingsMap": {},
     "title": ""
    }
   },
   "outputs": [],
   "source": [
    "from pyspark.ml.feature import StringIndexer, OneHotEncoder, VectorAssembler, StandardScaler\n",
    "from pyspark.ml.classification import LogisticRegression\n",
    "from pyspark.ml import Pipeline\n",
    "\n",
    "# Define Categorical & Numerical Features\n",
    "\n",
    "# Categorical features that need encoding\n",
    "categorical_cols = [\"marital\", \"education\", \"default\", \"housing\", \"loan\", \"contact\", \"month\", \"poutcome\", \"age_group\"]\n",
    "\n",
    "# Numerical features (Already in numeric form)\n",
    "numerical_cols = [\"balance\", \"day\", \"pdays\", \"previous\", \"avg_call_duration_per_job\", \"engagement_rate\"]\n",
    "\n",
    "# Target column\n",
    "target_col = \"subscription\"\n"
   ]
  },
  {
   "cell_type": "markdown",
   "metadata": {
    "application/vnd.databricks.v1+cell": {
     "cellMetadata": {
      "byteLimit": 2048000,
      "rowLimit": 10000
     },
     "inputWidgets": {},
     "nuid": "07776790-e996-41de-82ef-55f2c89a3edb",
     "showTitle": false,
     "tableResultSettingsMap": {},
     "title": ""
    }
   },
   "source": [
    "### 3.2 Encode Categorical Variables"
   ]
  },
  {
   "cell_type": "code",
   "execution_count": 0,
   "metadata": {
    "application/vnd.databricks.v1+cell": {
     "cellMetadata": {
      "byteLimit": 2048000,
      "rowLimit": 10000
     },
     "inputWidgets": {},
     "nuid": "f5cd052f-fa31-49b5-89ee-05ea58eb312d",
     "showTitle": false,
     "tableResultSettingsMap": {},
     "title": ""
    }
   },
   "outputs": [],
   "source": [
    "# Encode Categorical Variables\n",
    "# Index categorical columns\n",
    "indexers = [StringIndexer(inputCol=col, outputCol=col + \"_index\") for col in categorical_cols]\n",
    "\n",
    "# One-hot encoding for categorical columns\n",
    "encoders = [OneHotEncoder(inputCol=col + \"_index\", outputCol=col + \"_encoded\") for col in categorical_cols]\n"
   ]
  },
  {
   "cell_type": "markdown",
   "metadata": {
    "application/vnd.databricks.v1+cell": {
     "cellMetadata": {
      "byteLimit": 2048000,
      "rowLimit": 10000
     },
     "inputWidgets": {},
     "nuid": "3e059e8f-5644-4af4-87b1-aec753e47c88",
     "showTitle": false,
     "tableResultSettingsMap": {},
     "title": ""
    }
   },
   "source": [
    "### 3.3 Assemble & Scale Numerical Features"
   ]
  },
  {
   "cell_type": "code",
   "execution_count": 0,
   "metadata": {
    "application/vnd.databricks.v1+cell": {
     "cellMetadata": {
      "byteLimit": 2048000,
      "rowLimit": 10000
     },
     "inputWidgets": {},
     "nuid": "1b8b4c61-7717-43b2-ada1-a2312180e459",
     "showTitle": false,
     "tableResultSettingsMap": {},
     "title": ""
    }
   },
   "outputs": [],
   "source": [
    "# Assemble & Scale Numerical Features\n",
    "assembler_numerical = VectorAssembler(inputCols=numerical_cols, outputCol=\"numerical_features\")\n",
    "scaler = StandardScaler(inputCol=\"numerical_features\", outputCol=\"scaled_numerical_features\", withMean=True, withStd=True)"
   ]
  },
  {
   "cell_type": "markdown",
   "metadata": {
    "application/vnd.databricks.v1+cell": {
     "cellMetadata": {
      "byteLimit": 2048000,
      "rowLimit": 10000
     },
     "inputWidgets": {},
     "nuid": "0578b345-276d-41fd-94c6-1fd09ea43227",
     "showTitle": false,
     "tableResultSettingsMap": {},
     "title": ""
    }
   },
   "source": [
    "### 3.4 Assemble Final Feature Vector"
   ]
  },
  {
   "cell_type": "code",
   "execution_count": 0,
   "metadata": {
    "application/vnd.databricks.v1+cell": {
     "cellMetadata": {
      "byteLimit": 2048000,
      "rowLimit": 10000
     },
     "inputWidgets": {},
     "nuid": "bbd69a07-8d4d-4a48-b5db-e0c4b90e743e",
     "showTitle": false,
     "tableResultSettingsMap": {},
     "title": ""
    }
   },
   "outputs": [],
   "source": [
    "# Assemble Final Feature Vector\n",
    "feature_cols = [col + \"_encoded\" for col in categorical_cols] + [\"scaled_numerical_features\"]\n",
    "assembler_final = VectorAssembler(inputCols=feature_cols, outputCol=\"features\")"
   ]
  },
  {
   "cell_type": "markdown",
   "metadata": {
    "application/vnd.databricks.v1+cell": {
     "cellMetadata": {
      "byteLimit": 2048000,
      "rowLimit": 10000
     },
     "inputWidgets": {},
     "nuid": "aadbcde9-030d-4f15-b9e9-0aafc6550c39",
     "showTitle": false,
     "tableResultSettingsMap": {},
     "title": ""
    }
   },
   "source": [
    "### 3.5 Define and Train Logistic Regression Model"
   ]
  },
  {
   "cell_type": "code",
   "execution_count": 0,
   "metadata": {
    "application/vnd.databricks.v1+cell": {
     "cellMetadata": {
      "byteLimit": 2048000,
      "rowLimit": 10000
     },
     "inputWidgets": {},
     "nuid": "553ac9e7-4237-4cf9-8b29-50a617f3b5ff",
     "showTitle": false,
     "tableResultSettingsMap": {},
     "title": ""
    }
   },
   "outputs": [
    {
     "output_type": "stream",
     "name": "stdout",
     "output_type": "stream",
     "text": [
      "+------------+--------------------+----------+\n|subscription|            features|prediction|\n+------------+--------------------+----------+\n|           0|(32,[0,5,6,7,9,10...|       0.0|\n|           0|(32,[0,4,5,6,7,9,...|       0.0|\n|           0|(32,[0,2,5,6,9,10...|       0.0|\n|           0|(32,[1,4,5,6,9,10...|       0.0|\n|           0|(32,[0,2,5,6,7,9,...|       0.0|\n+------------+--------------------+----------+\nonly showing top 5 rows\n\n"
     ]
    }
   ],
   "source": [
    "from pyspark.ml.classification import LogisticRegression\n",
    "from pyspark.ml import Pipeline\n",
    "\n",
    "# Define the Classifier\n",
    "# Define Logistic Regression Model\n",
    "lr = LogisticRegression(featuresCol=\"features\", labelCol=\"subscription\")\n",
    "\n",
    "# Build ML Pipeline (Include assembler_numerical)\n",
    "pipeline = Pipeline(stages=indexers + encoders + [assembler_numerical, scaler, assembler_final, lr])\n",
    "\n",
    "# Fit the Model\n",
    "model = pipeline.fit(df)\n",
    "\n",
    "# Make Predictions\n",
    "predictions = model.transform(df)\n",
    "\n",
    "# Show Results\n",
    "predictions.select(\"subscription\", \"features\", \"prediction\").show(5)\n"
   ]
  },
  {
   "cell_type": "markdown",
   "metadata": {
    "application/vnd.databricks.v1+cell": {
     "cellMetadata": {
      "byteLimit": 2048000,
      "rowLimit": 10000
     },
     "inputWidgets": {},
     "nuid": "38f5563b-fa5d-47bb-93b7-f5ad249fd76e",
     "showTitle": false,
     "tableResultSettingsMap": {},
     "title": ""
    }
   },
   "source": [
    "## Documentation (Part 1 - Pipeline Construction)"
   ]
  },
  {
   "cell_type": "markdown",
   "metadata": {
    "application/vnd.databricks.v1+cell": {
     "cellMetadata": {
      "byteLimit": 2048000,
      "rowLimit": 10000
     },
     "inputWidgets": {},
     "nuid": "969df1ec-2748-43bf-be6c-6a7876ae9346",
     "showTitle": false,
     "tableResultSettingsMap": {},
     "title": ""
    }
   },
   "source": [
    "3.1 Define Categorical & Numerical Features\n",
    "\n",
    "In the first step of the pipeline construction, we distinguish between categorical features, numerical features and the target variable. Categorical features are text-based variables which will need to be converted into numerical form before model training. Numerical features are already in numeric format and do not require encoding, but require scaling to prevent features with large values from dominating the model. The target column \"subscription\" is a binary classification target, where 0 = no subscription and 1 = subscription.\n",
    "\n",
    "3.2 Encode Categorical Variables\n",
    "\n",
    "To encode categorical variables, we first use StringIndexer to convert categorical variables into numerical indices. After which, we apply OneHotEncoder to convert numerical indices into binary vectors which are suitable to be used for machine learning models. This ensures that categories are represented correctly without implying an incorrect ordinal relationship.\n",
    "\n",
    "3.3 Assemble & Scale Numerical Features\n",
    "\n",
    "Next, we use VectorAssembler to combine all numerical features into a single feature vector (\"numerical_features\") since Spark ML models expect input as vectors.\n",
    "\n",
    "We then take \"numerical_features\" as input and apply StandardScaler, which standardises the numerical features to have zero mean (mean = 0) and unit variance (standard deviation = 0). This prevents features with large values from dominating the model.\n",
    "\n",
    "3.4 Assemble Final Feature Vector\n",
    "\n",
    "We then combine both one hot encoded categorical features and numerical features (\"numerical_features\") into a single vector called \"features\".\n",
    "\n",
    "3.5 Define and Train Logistic Regression Model\n",
    "\n",
    "We then create a logistic regression classifier that will use \"features\" as the input cariable and \"subscription\" as the target label. The logistic regression predicts the probability of a customer subscribing to term deposit.\n",
    "\n",
    "The pipeline consists of multiple preprocessing steps, including categorical encoding (StringIndexer, OneHotEncoder), numerical feature scaling (StandardScaler) and feature vector assembly (VectorAssembler), ensuring that the data is properly formatted before training. The pipeline.fit(df) step applies these transformations and trains the model, while model.transform(df) generates predictions.\n",
    "\n",
    "Finally, predictions.select(\"subscription\", \"features\", \"prediction\").show(5) displays the actual subscription values alongside the predicted outcomes and transformed feature vectors for evaluation."
   ]
  },
  {
   "cell_type": "markdown",
   "metadata": {
    "application/vnd.databricks.v1+cell": {
     "cellMetadata": {
      "byteLimit": 2048000,
      "rowLimit": 10000
     },
     "inputWidgets": {},
     "nuid": "ffc36667-20da-482e-af63-15e3ef3725fe",
     "showTitle": false,
     "tableResultSettingsMap": {},
     "title": ""
    }
   },
   "source": [
    "## Hyperparameter Tuning (7 marks) "
   ]
  },
  {
   "cell_type": "code",
   "execution_count": 0,
   "metadata": {
    "application/vnd.databricks.v1+cell": {
     "cellMetadata": {
      "byteLimit": 2048000,
      "rowLimit": 10000
     },
     "inputWidgets": {},
     "nuid": "33cfbd50-5fb8-4945-aadc-20feeb6fc371",
     "showTitle": false,
     "tableResultSettingsMap": {},
     "title": ""
    }
   },
   "outputs": [],
   "source": [
    "from pyspark.ml.tuning import ParamGridBuilder, CrossValidator\n",
    "from pyspark.ml.evaluation import BinaryClassificationEvaluator\n",
    "\n",
    "# Build ML Pipeline (Include assembler_numerical)\n",
    "pipeline = Pipeline(stages=indexers + encoders + [assembler_numerical, scaler, assembler_final, lr])\n",
    "\n",
    "# Define parameter grid for hyperparameter tuning\n",
    "paramGrid = (ParamGridBuilder()\n",
    "    .addGrid(lr.maxIter, [5, 10])  # Number of iterations for optimization\n",
    "    .addGrid(lr.threshold, [0.3, 0.5])  # Decision threshold\n",
    "    .build())\n",
    "\n",
    "# Define evaluator for binary classification\n",
    "evaluator = BinaryClassificationEvaluator(labelCol=\"subscription\", metricName=\"areaUnderROC\")\n",
    "\n",
    "# Define CrossValidator with 3-fold cross-validation\n",
    "cv = CrossValidator(estimator=pipeline, estimatorParamMaps=paramGrid, evaluator=evaluator, numFolds=3)\n"
   ]
  },
  {
   "cell_type": "markdown",
   "metadata": {
    "application/vnd.databricks.v1+cell": {
     "cellMetadata": {
      "byteLimit": 2048000,
      "rowLimit": 10000
     },
     "inputWidgets": {},
     "nuid": "6da79528-9fc6-410e-a0f7-f303121bc5e0",
     "showTitle": false,
     "tableResultSettingsMap": {},
     "title": ""
    }
   },
   "source": [
    "## Documentation (Part 2 - Hyperparameter Tuning)"
   ]
  },
  {
   "cell_type": "markdown",
   "metadata": {
    "application/vnd.databricks.v1+cell": {
     "cellMetadata": {
      "byteLimit": 2048000,
      "rowLimit": 10000
     },
     "inputWidgets": {},
     "nuid": "6ae62f38-0b64-40bd-805f-6cfd997075d0",
     "showTitle": false,
     "tableResultSettingsMap": {},
     "title": ""
    }
   },
   "source": [
    "We then prepare the model for hyperparameter tuning. \n",
    "\n",
    "We first define the parameter grid for hyperparameter tuning. The parameter grid will allow us to test different combinations to find the best model performance. In this case, the combinations include: \n",
    "lr.maxIter: Number of iterations for model training (5 and 10)\n",
    "lr.threshold: Classification decision threshold (0.3 and 0.5)\n",
    "\n",
    "Next, we define an evaluator for binary classification using AUC (Area Under ROC Curve). This allows us to pick the best model based on how well it separates the positive and negative classes. This is valuable for marketing because we care about how confidently the model predicts likelihood of subscription so you can target high-potential leads.\n",
    "\n",
    "Next, we initialise a 3-fold cross-validation. We split the data into 3 folds and for each combination of hyperparameters, we train on 2 folds and validate on the 3rd. This way, we can select the model that performs best across all data splits, preventing overfitting and improving generalisation.\n"
   ]
  },
  {
   "cell_type": "markdown",
   "metadata": {
    "application/vnd.databricks.v1+cell": {
     "cellMetadata": {
      "byteLimit": 2048000,
      "rowLimit": 10000
     },
     "inputWidgets": {},
     "nuid": "3f7c28dc-088a-4cde-9be9-453d340a16f4",
     "showTitle": false,
     "tableResultSettingsMap": {},
     "title": ""
    }
   },
   "source": [
    "## Documentation (Part 3 - Spark & Hyperparameter Tuning Benefits)"
   ]
  },
  {
   "cell_type": "markdown",
   "metadata": {
    "application/vnd.databricks.v1+cell": {
     "cellMetadata": {
      "byteLimit": 2048000,
      "rowLimit": 10000
     },
     "inputWidgets": {},
     "nuid": "76fbeb19-e5ab-4ba4-8851-47f8767585f6",
     "showTitle": false,
     "tableResultSettingsMap": {},
     "title": ""
    }
   },
   "source": [
    "Spark Benefits in ML Pipeline\n",
    "1. Parallel Data Preprocessing\n",
    "Spark splits the dataset into smaller partitions and distributes them acorss multiple worker nodes executors. This will enable operations such as StringIndexer, OneHotEncoder, VectorAssembler, StandardScaler to run in parallel on data chunks, thereby speeding up feature transformation. \n",
    "\n",
    "2. Scalable Model Training & Hyperparameter Tuning\n",
    "For models such as Logistic Regression, Spark distributes the training data and computes partial gradients on each partition. The partial gradients are then aggregated efficiently to update the model. This reduces training time significantly especially for larger datasets. During cross-validation and hyperparameter tuning, multiple models with different parameter settings (eg. different maxIter and threshold values) are trained in parallel across different worker nodes. Each fold in the k-fold validation will also be processed concurrently, enabling faster model selection and evaluation without overloading of a single machine. As the dataest grows bigger, Spark will handle it in-memory across nodes, preventing memory overflow and also reducing I/O bottlenecks.\n",
    "\n",
    "Hyperparameter Tuning on Model Performance\n",
    "- Hyperparameter tuning plays a key role in improving model performance by finding the best configuration of parameters that control the learning process. In this case, maxIter (maximum number of training iterations) and threshold (classification decision threshold) were used. Hyperparameter tuning optimises model convergence by finding the best combination of hyperparameters that leads to strong and generalisable performance because a low maxIter might result in underfitting because the model has not learnt enough while a high maxIter might result in overfitting where it learns noise in the training data rather than the underlying trends and thereby reducing its ability to generalise to unseen data. On the same note, a poorly chosen threshold can lead to more false positives or false negatives, and hyperparameter tuning can find the best threshold. By using ParamGridBuilder, we can try out multiple combinations and select the one that yields the highest Area Under ROC which reflects the model’s ability to distinguish between positive and negative classes.\n",
    "\n",
    "Adjustments Made Due To Resource Constraints\n",
    "1. Limit on Hyperparameter Conditions\n",
    "A smaller hyperparameter grid of 2 values of maxIter and 2 values of threshold values (2x2) was chosen because hyperparameter tuning on larger grids lead to the compute node on Databricks timing out after 60 minutes (>60 minutes).\n",
    "\n",
    "2. Using Fewer Folds for Cross-Validation\n",
    "For k-fold cross validation, k=3 was chosen instead of the conventional k=5 or k=10. In k-fold cross-validation, the dataset is split into k equally sized subsets and the model will be trained and validated k times - each time using a different fold as the validation set and the remaining k−1 folds as the train set. While using a higher value of k can lead to a more reliable model performance, it also significantly increases computational cost. Therefore due to resource constraints (Databricks jobs timing out at 60 minutes), we opted for k = 3. This reduces the number of model training runs while at at same time still offering a reasonable balance between performance evaluation and computation time.\n"
   ]
  },
  {
   "cell_type": "markdown",
   "metadata": {
    "application/vnd.databricks.v1+cell": {
     "cellMetadata": {
      "byteLimit": 2048000,
      "rowLimit": 10000
     },
     "inputWidgets": {},
     "nuid": "6cf88f2d-3ae8-4069-98db-f11bfa6eed05",
     "showTitle": false,
     "tableResultSettingsMap": {},
     "title": ""
    }
   },
   "source": [
    "# Task 4: Model Evaluation and Innovation and Advanced Insights (25 marks) "
   ]
  },
  {
   "cell_type": "markdown",
   "metadata": {
    "application/vnd.databricks.v1+cell": {
     "cellMetadata": {
      "byteLimit": 2048000,
      "rowLimit": 10000
     },
     "inputWidgets": {},
     "nuid": "e83e6bc4-f059-4457-b3b4-15c012ca32f9",
     "showTitle": false,
     "tableResultSettingsMap": {},
     "title": ""
    }
   },
   "source": [
    "## Model Evaluation (15 marks) "
   ]
  },
  {
   "cell_type": "code",
   "execution_count": 0,
   "metadata": {
    "application/vnd.databricks.v1+cell": {
     "cellMetadata": {
      "byteLimit": 2048000,
      "rowLimit": 10000
     },
     "inputWidgets": {},
     "nuid": "b8c5fc41-a0bf-46c5-9c48-41ec9e393dc0",
     "showTitle": false,
     "tableResultSettingsMap": {},
     "title": ""
    }
   },
   "outputs": [
    {
     "output_type": "stream",
     "name": "stdout",
     "output_type": "stream",
     "text": [
      "Best maxIter: 10\nBest threshold: 0.5\n"
     ]
    }
   ],
   "source": [
    "# Train-test split\n",
    "train_df, test_df = df.randomSplit([0.8, 0.2], seed=42)\n",
    "\n",
    "# Fit the cross-validation model on training data\n",
    "cv_model = cv.fit(train_df)\n",
    "\n",
    "# Get the best model\n",
    "best_model = cv_model.bestModel\n",
    "\n",
    "# Get the best parameters\n",
    "best_maxIter = best_model.stages[-1]._java_obj.getMaxIter()\n",
    "best_threshold = best_model.stages[-1]._java_obj.getThreshold()\n",
    "\n",
    "print(f\"Best maxIter: {best_maxIter}\")\n",
    "print(f\"Best threshold: {best_threshold}\")\n",
    "\n",
    "# Make predictions on the test set\n",
    "predictions = best_model.transform(test_df)\n"
   ]
  },
  {
   "cell_type": "code",
   "execution_count": 0,
   "metadata": {
    "application/vnd.databricks.v1+cell": {
     "cellMetadata": {
      "byteLimit": 2048000,
      "rowLimit": 10000
     },
     "inputWidgets": {},
     "nuid": "db9b286e-8fe8-4319-b525-604c6a9c400b",
     "showTitle": false,
     "tableResultSettingsMap": {},
     "title": ""
    }
   },
   "outputs": [
    {
     "output_type": "stream",
     "name": "stdout",
     "output_type": "stream",
     "text": [
      "\nModel Evaluation Results:\nArea Under ROC (AUC): 0.8106\nRecall: 0.2002\nF1 Score: 0.8693\n"
     ]
    }
   ],
   "source": [
    "from pyspark.ml.evaluation import BinaryClassificationEvaluator, MulticlassClassificationEvaluator\n",
    "\n",
    "# Compute F1 Score\n",
    "evaluator_f1 = MulticlassClassificationEvaluator(labelCol=\"subscription\", metricName=\"f1\")\n",
    "f1 = evaluator_f1.evaluate(predictions)\n",
    "\n",
    "# Compute Recall\n",
    "evaluator_recall = MulticlassClassificationEvaluator(labelCol=\"subscription\", metricName=\"recallByLabel\").setMetricLabel(1)\n",
    "recall = evaluator_recall.evaluate(predictions)\n",
    "\n",
    "# Compute ROC AUC\n",
    "evaluator_roc = BinaryClassificationEvaluator(labelCol=\"subscription\", metricName=\"areaUnderROC\")\n",
    "auc = evaluator_roc.evaluate(predictions)\n",
    "\n",
    "# Print Evaluation Metrics\n",
    "print(\"\\nModel Evaluation Results:\")\n",
    "print(f\"Area Under ROC (AUC): {auc:.4f}\")\n",
    "print(f\"Recall: {recall:.4f}\")\n",
    "print(f\"F1 Score: {f1:.4f}\")"
   ]
  },
  {
   "cell_type": "markdown",
   "metadata": {
    "application/vnd.databricks.v1+cell": {
     "cellMetadata": {
      "byteLimit": 2048000,
      "rowLimit": 10000
     },
     "inputWidgets": {},
     "nuid": "acdf8c82-778a-4817-b945-8f3ca8c4e1dc",
     "showTitle": false,
     "tableResultSettingsMap": {},
     "title": ""
    }
   },
   "source": [
    "Area Under ROC (AUC) = 0.8106, suggesting that the model performs well at distinguishing between subscribers and non-subscribers. AUC values range from 0 - 1, where 0.5 indicates guessing at random and 1 indicates perfect performance. Since AUC > 0.8, the model has learnt meaningful patterns from the dataset and indicates good separability. AUC is particularly useful when dealing with imbalanced classes because AUC considers all classification thresholds, providing a more comprehensive view than accuracy.\n",
    "\n",
    "Precision = 0.6338. This suggests that of all customers the model predicted to subscribe, 63.38% actually subscribed. This suggests that 36.6% or predicted subscribers are false positives. Therefore, while model does correctly identify many actual subscribers, it also incorrectly classifies non-subscribers as subscribers sometimes.From a marketing point of view, this could potentially lead to wasted outreach efforts. Therefore, improving precision would help target only the most promising leads.\n",
    "\n",
    "F1 Score = 0.8693. F1 Score is the harmonic mean of precision and recall(measures the model’s ability to correctly identify actual subscriber). F1 score is high, indicating a strong model and classification performance. However, from EDA, we can see that the dataset contains a large imbalance of having many more non-subscribers comapred to subscribers, therefore the F1 score might be dominated by model's performance on the majorty class of non-subscribers. Therefore, F1 score should be interpreted with caution, especially in marketing scenarios where identifying the subscribers is more critical.\n",
    "\n",
    "\n"
   ]
  },
  {
   "cell_type": "markdown",
   "metadata": {
    "application/vnd.databricks.v1+cell": {
     "cellMetadata": {
      "byteLimit": 2048000,
      "rowLimit": 10000
     },
     "inputWidgets": {},
     "nuid": "4ce89b73-7a10-459f-bbe3-1f693484f4d7",
     "showTitle": false,
     "tableResultSettingsMap": {},
     "title": ""
    }
   },
   "source": [
    "## Innovation and Advanced Insights (10 marks) "
   ]
  },
  {
   "cell_type": "code",
   "execution_count": 0,
   "metadata": {
    "application/vnd.databricks.v1+cell": {
     "cellMetadata": {
      "byteLimit": 2048000,
      "rowLimit": 10000
     },
     "inputWidgets": {},
     "nuid": "2ae838d1-8948-48cb-9e33-def852ca6248",
     "showTitle": false,
     "tableResultSettingsMap": {},
     "title": ""
    }
   },
   "outputs": [
    {
     "output_type": "display_data",
     "data": {
      "application/vnd.databricks.v1+bamboolib_hint": "{\"pd.DataFrames\": [], \"version\": \"0.0.1\"}",
      "text/plain": []
     },
     "metadata": {},
     "output_type": "display_data"
    },
    {
     "output_type": "display_data",
     "data": {
      "image/png": "[encoded data removed]"
     },
     "metadata": {
      "application/vnd.databricks.v1+output": {
       "addedWidgets": {},
       "arguments": {},
       "data": "data:image/png;base64,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\n",
       "datasetInfos": [],
       "metadata": {},
       "removedWidgets": [],
       "type": "image"
      }
     },
     "output_type": "display_data"
    }
   ],
   "source": [
    "import pandas as pd\n",
    "import matplotlib.pyplot as plt\n",
    "# Extract the best logistic regression model\n",
    "best_lr_model = best_model.stages[-1]  # Extract Logistic Regression model\n",
    "\n",
    "# Extract feature coefficients and intercept\n",
    "coefficients = best_lr_model.coefficients\n",
    "\n",
    "# Define categorical and numerical columns\n",
    "categorical_cols = [\"marital\", \"education\", \"default\", \"housing\", \"loan\", \"contact\", \"month\", \"poutcome\", \"age_group\"]\n",
    "numerical_cols = [\"balance\", \"day\", \"pdays\", \"previous\", \"avg_call_duration_per_job\", \"engagement_rate\"]\n",
    "num_numerical = len(numerical_cols)\n",
    "\n",
    "# Extract individual numerical feature coefficients\n",
    "numerical_coefficients = coefficients[-num_numerical:]\n",
    "numerical_importance = list(zip(numerical_cols, numerical_coefficients))\n",
    "\n",
    "# Attempt to extract categorical feature group sizes\n",
    "categorical_group_sizes = []\n",
    "for stage in best_model.stages:\n",
    "    if isinstance(stage, OneHotEncoder):\n",
    "        try:\n",
    "            categorical_group_sizes = stage.categorySizes  # Try to extract actual sizes\n",
    "        except:\n",
    "            pass\n",
    "        break\n",
    "\n",
    "# Fallback if categorySizes not available\n",
    "if not categorical_group_sizes:\n",
    "    categorical_group_sizes = [10] * len(categorical_cols)  # Replace with actual values if known\n",
    "\n",
    "# Compute average importance for each categorical group\n",
    "categorical_importance = []\n",
    "offset = 0\n",
    "for col, group_size in zip(categorical_cols, categorical_group_sizes):\n",
    "    group_coeffs = coefficients[offset:offset + group_size]\n",
    "    avg_importance = sum(abs(c) for c in group_coeffs) / group_size\n",
    "    categorical_importance.append((col, avg_importance))\n",
    "    offset += group_size\n",
    "\n",
    "# Combine and sort all importances\n",
    "all_importance = numerical_importance + categorical_importance\n",
    "import pandas as pd\n",
    "importance_df = pd.DataFrame(all_importance, columns=[\"Feature\", \"Coefficient\"])\n",
    "importance_df[\"AbsCoefficient\"] = importance_df[\"Coefficient\"].abs()\n",
    "importance_df = importance_df.sort_values(\"AbsCoefficient\", ascending=False)\n",
    "\n",
    "# Plot Top 10\n",
    "import matplotlib.pyplot as plt\n",
    "plt.figure(figsize=(10, 6))\n",
    "plt.barh(importance_df[\"Feature\"][:10][::-1], importance_df[\"Coefficient\"][:10][::-1], color='skyblue')\n",
    "plt.xlabel(\"Coefficient Value\")\n",
    "plt.title(\"Top 10 Most Important Features (Categorical + Numerical)\")\n",
    "plt.grid(True, linestyle='--', alpha=0.6)\n",
    "plt.tight_layout()\n",
    "plt.show()\n"
   ]
  },
  {
   "cell_type": "markdown",
   "metadata": {
    "application/vnd.databricks.v1+cell": {
     "cellMetadata": {
      "byteLimit": 2048000,
      "rowLimit": 10000
     },
     "inputWidgets": {},
     "nuid": "4510de24-c2ac-462d-b4ea-f17a9496cc2f",
     "showTitle": false,
     "tableResultSettingsMap": {},
     "title": ""
    }
   },
   "source": [
    "Interpretation of the Chart\n",
    "\n",
    "The engagement_rate feature has the highest magnitude, with a strong negative coefficient. engagement_rate = (last contact duration / number of contacts performed during this campaign + 1), where + 1 prevents zero division error. This suggests that as engagement_rate increases, the likelihood of subscription decreases. High engagement_rate indicates that the customer has been contacted multiple times but spends very little time on calls. This may suggest a lack of interest or call fatigue, requiring a different outreach strategy. Low engagement_rate suggests that the customer had fewer calls but engaged in longer conversations, which may indicate higher interest and a greater likelihood of conversion. Therefore a strong negative coefficient of engagement rate could mean that customers who receive frequent campaign calls but have shorter interactions may be less likely to subscribe, possibly due to call fatigue or lack of interest. Therefore, the feature importance chart suggests that excessive follow-ups may be ineffective or even counterproductive.\n",
    "\n",
    "The default feature has a strong positive coefficient, suggesting that customers who previously defaulted on credit are more likely to subscribe. This is an interesting insight because it may indicate that people with previous credit issues might be looking for safer savings options such as term deposits. Therefore, marketing campaigns should highlight the nature of term deposits - guaranteed returns / fixed interest rates and it being a low-risk investment.\n",
    "\n",
    "Education, Marital and Housing have a moderate positive impact. First, this suggests that customers with higher education levels are more likely to subscribe. This could be due to the fact that they have higher income stability, making term deposits more attractive. Therefore campaign can also target educated individuals with detailed financial benefits of the term deposits for long term wealth growth.\n",
    "\n",
    "Secondly, Married individuals show a higher likelihood of subscribing. This could be due to the fact that they have joint financial planning responsibilities and they might prioritise stable financial investments for family security. Therefore, the bank can position term deposits as a \"Family Savings Plan\" to incentivse married individuals of taking up the plan, through perhaps campaigns where they offer higher interest rates for couples depositing together. Campaigns can also be tailored to target marketing on Facebook, parenting forums and family financial blogs.\n",
    "\n",
    "Thirdly, customers who own houses show a higher likelihood of subscribing. They may be saving for home improvements, renovations or future mortgage payments and may seek fixed income assets to diversify financial portfolios. The bank can highlight how term deposits can be used to fund future home expenses as a \"Homeowner’s Investment Plan\" and emphasise how term deposits provide liquidity for emergency expenses."
   ]
  }
 ],
 "metadata": {
  "application/vnd.databricks.v1+notebook": {
   "computePreferences": null,
   "dashboards": [],
   "environmentMetadata": {
    "base_environment": "",
    "environment_version": "1"
   },
   "inputWidgetPreferences": null,
   "language": "python",
   "notebookMetadata": {
    "pythonIndentUnit": 4
   },
   "notebookName": "BT4221_assignment2_submission",
   "widgets": {}
  }
 },
 "nbformat": 4,
 "nbformat_minor": 0
}
